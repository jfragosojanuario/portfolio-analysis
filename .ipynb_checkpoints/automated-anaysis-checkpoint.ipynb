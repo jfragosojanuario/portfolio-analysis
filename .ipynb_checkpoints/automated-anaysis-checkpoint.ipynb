{
 "cells": [
  {
   "cell_type": "code",
   "execution_count": 3,
   "metadata": {},
   "outputs": [
    {
     "name": "stdout",
     "output_type": "stream",
     "text": [
      "                        NIO        BTC        ETH       XRP        ADA  \\\n",
      "current_position  12.010000  25.400000  12.200000  7.200000  41.000000   \n",
      "max_sharpe_port   22.515919  18.367231  10.743676  0.610921   8.061716   \n",
      "min_risk_port      6.461342   6.606438  15.345763  8.626339   9.511008   \n",
      "\n",
      "                        JKS      SPWR       AAPL  \n",
      "current_position   0.700000  0.400000   0.700000  \n",
      "max_sharpe_port   15.300932  6.428432  17.971172  \n",
      "min_risk_port      7.695061  6.197621  39.556428  \n"
     ]
    }
   ],
   "source": [
    "from datetime import date\n",
    "import urllib.request\n",
    "import requests\n",
    "import pandas as pd\n",
    "import json\n",
    "import numpy as np\n",
    "from send_email import sendEmail\n",
    "\n",
    "today = date.today()\n",
    "new_data= {}\n",
    "\n",
    "#Initial portfolio weights: ORDER: NIO -> BTC ->ETH ->XRP ->ADA ->JKS ->SPWR ->AAPL\n",
    "initial_weight = np.array([0.1201,0.254,0.122,0.072,0.410,0.007,0.004,0.007])\n",
    "\n",
    "\n",
    "#Loding previous dataset\n",
    "df = pd.read_csv(\"./history/prices.csv\")\n",
    "\n",
    "#converting date to index\n",
    "df = df.set_index(\"Date\")\n",
    "\n",
    "#make sure everyseries is of type float\n",
    "for column in df.columns:\n",
    "    df[column] = df[column].astype(float)\n",
    "\n",
    "    \n",
    "#calculating percentage change\n",
    "return_stocks = df.pct_change()\n",
    "\n",
    "number_of_portfolios = 2000 #2000 simulated portfolios\n",
    "RF = 0 #return on risk-free asset\n",
    "\n",
    "\n",
    "portfolio_returns = []\n",
    "portfolio_risk = []\n",
    "sharpe_ratio_port = []\n",
    "portfolio_weights = []\n",
    "\n",
    "#iterating over each portfolio simulation\n",
    "for portfolio in range (number_of_portfolios):\n",
    "    \n",
    "    #generate a w random weight of lengt of number of stocks\n",
    "    weights = np.random.random_sample((len(df.keys())))\n",
    " \n",
    "    weights = weights / np.sum(weights)\n",
    "    annualize_return = np.sum((return_stocks.mean() * weights) * 252)\n",
    "    portfolio_returns.append(annualize_return)\n",
    "    #variance\n",
    "    matrix_covariance_portfolio = (return_stocks.cov())*252\n",
    "    portfolio_variance = np.dot(weights.T,np.dot(matrix_covariance_portfolio, weights))\n",
    "    portfolio_standard_deviation= np.sqrt(portfolio_variance) \n",
    "    portfolio_risk.append(portfolio_standard_deviation)\n",
    "    #sharpe_ratio\n",
    "    sharpe_ratio = ((annualize_return- RF)/portfolio_standard_deviation)\n",
    "    sharpe_ratio_port.append(sharpe_ratio)\n",
    "\n",
    "    portfolio_weights.append(weights)\n",
    "\n",
    "portfolio_risk = np.array(portfolio_risk)\n",
    "portfolio_returns = np.array(portfolio_returns)\n",
    "sharpe_ratio_port = np.array(sharpe_ratio_port)\n",
    "\n",
    "porfolio_metrics = [portfolio_returns,portfolio_risk,sharpe_ratio_port, portfolio_weights] \n",
    "\n",
    "portfolio_dfs = pd.DataFrame(porfolio_metrics)\n",
    "portfolio_dfs = portfolio_dfs.T\n",
    "portfolio_dfs.columns = ['Port Returns','Port Risk','Sharpe Ratio','Portfolio Weights']\n",
    "\n",
    "#convert from object to float the first three columns.\n",
    "for col in ['Port Returns', 'Port Risk', 'Sharpe Ratio']:\n",
    "    portfolio_dfs[col] = portfolio_dfs[col].astype(float)\n",
    "\n",
    "#portfolio with the highest Sharpe Ratio\n",
    "Highest_sharpe_port = portfolio_dfs.iloc[portfolio_dfs['Sharpe Ratio'].idxmax()]\n",
    "#portfolio with the minimum risk \n",
    "min_risk = portfolio_dfs.iloc[portfolio_dfs['Port Risk'].idxmin()]\n",
    "\n",
    "#Highest_sharpe_port\n",
    "#print(Highest_sharpe_port)\n",
    "#print(min_risk)\n",
    "\n",
    "#Summarizing Optimal Action to take\n",
    "max_sharpe_port = pd.Series((Highest_sharpe_port[\"Portfolio Weights\"])*100, index=df.keys())\n",
    "min_risk_port = pd.Series((min_risk[\"Portfolio Weights\"])*100, index=df.keys())\n",
    "\n",
    "\n",
    "#creating a summary recommendation table\n",
    "summary_table = pd.DataFrame(columns=[max_sharpe_port.index])\n",
    "summary_table.loc[\"current_position\"] = initial_weight*100\n",
    "summary_table.loc[\"max_sharpe_port\"] = max_sharpe_port.values\n",
    "summary_table.loc[\"min_risk_port\"] = min_risk_port.values\n",
    "\n",
    "summary_table = summary_table.round(2)\n",
    "\n",
    "sendEmail(\"joao.fragoso.januario@gmail.com\",\"Weekly Portfolio Update {}\".format(str(today.strftime(\"%d %b, %Y\"))),summary_table.T)"
   ]
  },
  {
   "cell_type": "code",
   "execution_count": 13,
   "metadata": {},
   "outputs": [],
   "source": [
    "summary_table = summary_table.round(2)"
   ]
  },
  {
   "cell_type": "code",
   "execution_count": 17,
   "metadata": {},
   "outputs": [
    {
     "data": {
      "text/html": [
       "<div>\n",
       "<style scoped>\n",
       "    .dataframe tbody tr th:only-of-type {\n",
       "        vertical-align: middle;\n",
       "    }\n",
       "\n",
       "    .dataframe tbody tr th {\n",
       "        vertical-align: top;\n",
       "    }\n",
       "\n",
       "    .dataframe thead th {\n",
       "        text-align: right;\n",
       "    }\n",
       "</style>\n",
       "<table border=\"1\" class=\"dataframe\">\n",
       "  <thead>\n",
       "    <tr style=\"text-align: right;\">\n",
       "      <th></th>\n",
       "      <th>current_position</th>\n",
       "      <th>max_sharpe_port</th>\n",
       "      <th>min_risk_port</th>\n",
       "    </tr>\n",
       "  </thead>\n",
       "  <tbody>\n",
       "    <tr>\n",
       "      <th>NIO</th>\n",
       "      <td>12.01</td>\n",
       "      <td>22.52</td>\n",
       "      <td>6.46</td>\n",
       "    </tr>\n",
       "    <tr>\n",
       "      <th>BTC</th>\n",
       "      <td>25.40</td>\n",
       "      <td>18.37</td>\n",
       "      <td>6.61</td>\n",
       "    </tr>\n",
       "    <tr>\n",
       "      <th>ETH</th>\n",
       "      <td>12.20</td>\n",
       "      <td>10.74</td>\n",
       "      <td>15.35</td>\n",
       "    </tr>\n",
       "    <tr>\n",
       "      <th>XRP</th>\n",
       "      <td>7.20</td>\n",
       "      <td>0.61</td>\n",
       "      <td>8.63</td>\n",
       "    </tr>\n",
       "    <tr>\n",
       "      <th>ADA</th>\n",
       "      <td>41.00</td>\n",
       "      <td>8.06</td>\n",
       "      <td>9.51</td>\n",
       "    </tr>\n",
       "    <tr>\n",
       "      <th>JKS</th>\n",
       "      <td>0.70</td>\n",
       "      <td>15.30</td>\n",
       "      <td>7.70</td>\n",
       "    </tr>\n",
       "    <tr>\n",
       "      <th>SPWR</th>\n",
       "      <td>0.40</td>\n",
       "      <td>6.43</td>\n",
       "      <td>6.20</td>\n",
       "    </tr>\n",
       "    <tr>\n",
       "      <th>AAPL</th>\n",
       "      <td>0.70</td>\n",
       "      <td>17.97</td>\n",
       "      <td>39.56</td>\n",
       "    </tr>\n",
       "  </tbody>\n",
       "</table>\n",
       "</div>"
      ],
      "text/plain": [
       "      current_position  max_sharpe_port  min_risk_port\n",
       "NIO              12.01            22.52           6.46\n",
       "BTC              25.40            18.37           6.61\n",
       "ETH              12.20            10.74          15.35\n",
       "XRP               7.20             0.61           8.63\n",
       "ADA              41.00             8.06           9.51\n",
       "JKS               0.70            15.30           7.70\n",
       "SPWR              0.40             6.43           6.20\n",
       "AAPL              0.70            17.97          39.56"
      ]
     },
     "execution_count": 17,
     "metadata": {},
     "output_type": "execute_result"
    }
   ],
   "source": [
    "summary_table.T"
   ]
  },
  {
   "cell_type": "code",
   "execution_count": 7,
   "metadata": {},
   "outputs": [],
   "source": [
    "from send_email import sendEmail"
   ]
  },
  {
   "cell_type": "code",
   "execution_count": 10,
   "metadata": {},
   "outputs": [
    {
     "data": {
      "text/plain": [
       "'08 Dec, 2020'"
      ]
     },
     "execution_count": 10,
     "metadata": {},
     "output_type": "execute_result"
    }
   ],
   "source": [
    "str(today.strftime(\"%d %b, %Y\"))"
   ]
  },
  {
   "cell_type": "code",
   "execution_count": 16,
   "metadata": {},
   "outputs": [
    {
     "name": "stdout",
     "output_type": "stream",
     "text": [
      "From: Portolio Monitoring\n",
      "To: joao.fragoso.januario@gmail.com\n",
      "Subject: Weekly Protfolio Update 08 Dec, 2020\n",
      "\n",
      "      current_position  max_sharpe_port  min_risk_port\n",
      "NIO              12.01            22.52           6.46\n",
      "BTC              25.40            18.37           6.61\n",
      "ETH              12.20            10.74          15.35\n",
      "XRP               7.20             0.61           8.63\n",
      "ADA              41.00             8.06           9.51\n",
      "JKS               0.70            15.30           7.70\n",
      "SPWR              0.40             6.43           6.20\n",
      "AAPL              0.70            17.97          39.56\n",
      "Email Sent\n"
     ]
    }
   ],
   "source": []
  }
 ],
 "metadata": {
  "kernelspec": {
   "display_name": "Python 3",
   "language": "python",
   "name": "python3"
  },
  "language_info": {
   "codemirror_mode": {
    "name": "ipython",
    "version": 3
   },
   "file_extension": ".py",
   "mimetype": "text/x-python",
   "name": "python",
   "nbconvert_exporter": "python",
   "pygments_lexer": "ipython3",
   "version": "3.7.1rc1"
  }
 },
 "nbformat": 4,
 "nbformat_minor": 2
}
