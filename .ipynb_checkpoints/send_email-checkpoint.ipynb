{
 "cells": [
  {
   "cell_type": "code",
   "execution_count": 1,
   "metadata": {},
   "outputs": [],
   "source": [
    "import smtplib, ssl\n",
    "import os\n",
    "import subprocess\n",
    "from datetime import date\n",
    "\n",
    "today = date.today()\n",
    "\n",
    "def sendEmail(to, subject, msg):\n",
    "    try:\n",
    "        port = 465  # For SSL\n",
    "        smtp_server = \"smtp.gmail.com\"\n",
    "        password = \"emailtest!123\"\n",
    "        #TIP: for blind input of passowrd use:\n",
    "        #import getpass\n",
    "        #password = getpass.getpass()\n",
    "\n",
    "        # Create a secure SSL context\n",
    "        context = ssl.create_default_context()\n",
    "\n",
    "        sender_email = \"info.jfragosojanuario@gmail.com\"\n",
    "        receiver_email = to  # Enter receiver address\n",
    "        deliver_name = \"Portolio Monitoring\"\n",
    "        \n",
    "        message = f'From: {deliver_name}\\nTo: {receiver_email}\\nSubject: {subject}\\n\\n{msg}'\n",
    "        print(message)\n",
    "\n",
    "        with smtplib.SMTP_SSL(smtp_server, port, context=context) as server:\n",
    "            server.login(sender_email, password)\n",
    "            server.sendmail(sender_email, receiver_email, message.encode(\"utf8\"))\n",
    "\n",
    "        print(\"Email Sent\")\n",
    "    except:\n",
    "        print(\"Some Error Occured\")"
   ]
  }
 ],
 "metadata": {
  "kernelspec": {
   "display_name": "Python 3",
   "language": "python",
   "name": "python3"
  },
  "language_info": {
   "codemirror_mode": {
    "name": "ipython",
    "version": 3
   },
   "file_extension": ".py",
   "mimetype": "text/x-python",
   "name": "python",
   "nbconvert_exporter": "python",
   "pygments_lexer": "ipython3",
   "version": "3.7.1rc1"
  }
 },
 "nbformat": 4,
 "nbformat_minor": 2
}
