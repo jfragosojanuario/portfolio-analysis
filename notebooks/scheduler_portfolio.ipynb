{
 "cells": [
  {
   "cell_type": "code",
   "execution_count": 15,
   "metadata": {},
   "outputs": [
    {
     "data": {
      "text/plain": [
       "Every 1 week at 22:30:00 do job() (last run: [never], next run: 2020-12-13 22:30:00)"
      ]
     },
     "execution_count": 15,
     "metadata": {},
     "output_type": "execute_result"
    }
   ],
   "source": [
    "import schedule\n",
    "import time\n",
    "from datetime import datetime as dt\n",
    "from automated_data import getData\n",
    "from automated_anaysis import getAnalysis\n",
    "\n",
    "def updateData():\n",
    "    getData()\n",
    "\n",
    "def portfolioAnalysis():\n",
    "    getAnalysis()\n",
    "    print(\"Analysis has been conducted\")\n",
    "\n",
    "#getting data updated\n",
    "schedule.every().monday.at(\"22:00\").do(updateData)\n",
    "schedule.every().tuesday.at(\"22:00\").do(updateData)\n",
    "schedule.every().wednesday.at(\"22:00\").do(updateData)\n",
    "schedule.every().thursday.at(\"22:00\").do(updateData)\n",
    "schedule.every().friday.at(\"22:00\").do(updateData)\n",
    "\n",
    "#getting \n",
    "schedule.every().sunday.at(\"22:30\").do(portfolioAnalysis)\n",
    "\n",
    "\n",
    "\n",
    "while True:\n",
    "    schedule.run_pending()\n",
    "    time.sleep(30)"
   ]
  }
 ],
 "metadata": {
  "kernelspec": {
   "display_name": "Python 3",
   "language": "python",
   "name": "python3"
  },
  "language_info": {
   "codemirror_mode": {
    "name": "ipython",
    "version": 3
   },
   "file_extension": ".py",
   "mimetype": "text/x-python",
   "name": "python",
   "nbconvert_exporter": "python",
   "pygments_lexer": "ipython3",
   "version": "3.7.1rc1"
  }
 },
 "nbformat": 4,
 "nbformat_minor": 2
}
