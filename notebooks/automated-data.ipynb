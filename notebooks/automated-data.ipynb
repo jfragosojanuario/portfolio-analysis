{
 "cells": [
  {
   "cell_type": "code",
   "execution_count": null,
   "metadata": {},
   "outputs": [],
   "source": [
    "import json\n",
    "import numpy as np\n",
    "\n",
    "today = date.today()\n",
    "new_data= {}\n",
    "\n",
    "#Initial portfolio weights: ORDER: NIO -> BTC ->ETH ->XRP ->ADA ->JKS ->SPWR ->AAPL\n",
    "initial_weight = np.array([0.1201,0.254,0.122,0.072,0.410,0.007,0.004,0.007])\n",
    "\n",
    "\n",
    "#Loding previous dataset\n",
    "df = pd.read_csv(\"./history/prices.csv\")\n",
    "\n",
    "#Cryptos\n",
    "url = \"https://api.nomics.com/v1/currencies/ticker?key=41f2e495a3e8012cf8bcd2cb38626651&ids=BTC,ETH,XRP,ADA&interval=1d\"\n",
    "response = urllib.request.urlopen(url)\n",
    "data = json.loads(response.read())\n",
    "\n",
    "for i in range(len(data)):\n",
    "    new_data[data[i][\"currency\"]] = data[i][\"price\"]\n",
    "    \n",
    "\n",
    "\n",
    "#Stocks\n",
    "stocks = ['AAPL','NIO','JKS', 'SPWR']\n",
    "\n",
    "#Get all prices into a dataframe\n",
    "for stock in stocks: \n",
    "    prices = requests.get(f'https://financialmodelingprep.com/api/v3/profile/{stock}?apikey=8648d46b7ae4fa07c7ecd3b90861c94e').json()\n",
    "\n",
    "    new_data[stock] = float(prices[0][\"price\"])\n",
    "\n",
    "new_data[\"Date\"] = today\n",
    "df = df.append(new_data, ignore_index=True)\n",
    "df = df.set_index(\"Date\")\n",
    "\n",
    "#saving new dataset    \n",
    "df.to_csv(\"./history/prices.csv\")"
   ]
  }
 ],
 "metadata": {
  "kernelspec": {
   "display_name": "Python 3",
   "language": "python",
   "name": "python3"
  },
  "language_info": {
   "codemirror_mode": {
    "name": "ipython",
    "version": 3
   },
   "file_extension": ".py",
   "mimetype": "text/x-python",
   "name": "python",
   "nbconvert_exporter": "python",
   "pygments_lexer": "ipython3",
   "version": "3.7.1rc1"
  }
 },
 "nbformat": 4,
 "nbformat_minor": 2
}
